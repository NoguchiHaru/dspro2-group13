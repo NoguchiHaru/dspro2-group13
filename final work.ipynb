import requests
from bs4 import BeautifulSoup

# スクレイピング対象のURL
url = 'https://www.data.jma.go.jp/obd/stats/etrn/view/daily_s1.php?prec_no=44&block_no=47662&year=2022&month=12&day=&view=a2'

# HTTPリクエストを送信し、ページのHTMLを取得
response = requests.get(url)
html = response.text

# BeautifulSoupを使ってHTMLを解析
soup = BeautifulSoup(html, 'html.parser')

# 平均湿度のデータを抽出する
humidity_table = soup.find('table', {'class': 'data2_s'})

# 該当のテーブルが存在するか確認
if humidity_table:
    rows = humidity_table.find_all('tr')
    
    # 5行目以降を処理
    for row in rows[4:]:
        columns = row.find_all('td')
        
      
        if len(columns) >= 8:
          
            year = columns[0].text.strip()
            month = columns[1].text.strip()
            day = columns[2].text.strip()
            avg_humidity = columns[16].text.strip()

            
            print(f'{year}-{month}-{day} 平均湿度: {avg_humidity}')
        else:
            print('列の数が足りません。')
else:
    print('平均湿度のデータが見つかりませんでした。')


