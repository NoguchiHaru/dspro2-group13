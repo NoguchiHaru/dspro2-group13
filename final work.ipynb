import requests
from bs4 import BeautifulSoup

url = 'https://www.data.jma.go.jp/obd/stats/etrn/view/daily_s1.php?prec_no=44&block_no=47662&year=2022&month=12&day=&view=a2'

response = requests.get(url)
html = response.text

soup = BeautifulSoup(html, 'html.parser')
